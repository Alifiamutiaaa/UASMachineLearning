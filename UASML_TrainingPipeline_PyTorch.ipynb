{
  "nbformat": 4,
  "nbformat_minor": 0,
  "metadata": {
    "colab": {
      "provenance": [],
      "authorship_tag": "ABX9TyPs3MkX2hqAyz77VRSzxtBG",
      "include_colab_link": true
    },
    "kernelspec": {
      "name": "python3",
      "display_name": "Python 3"
    },
    "language_info": {
      "name": "python"
    }
  },
  "cells": [
    {
      "cell_type": "markdown",
      "metadata": {
        "id": "view-in-github",
        "colab_type": "text"
      },
      "source": [
        "<a href=\"https://colab.research.google.com/github/Alifiamutiaaa/UASMachineLearning/blob/main/UASML_TrainingPipeline_PyTorch.ipynb\" target=\"_parent\"><img src=\"https://colab.research.google.com/assets/colab-badge.svg\" alt=\"Open In Colab\"/></a>"
      ]
    },
    {
      "cell_type": "markdown",
      "source": [
        "#Training Pipeline\n",
        "---\n"
      ],
      "metadata": {
        "id": "wlal68km6NPq"
      }
    },
    {
      "cell_type": "markdown",
      "source": [
        "### Loss and Optimizer\n",
        "---\n",
        "\n",
        "1. Design model (input, output, forward pass with different layers)\n",
        "2. Construct loss and optimizer\n",
        "3. Training loop\n",
        "- Forward = compute prediction and loss\n",
        "- Backward = compute gradients\n",
        "- Update weights"
      ],
      "metadata": {
        "id": "Xrpp6NDh6Z-p"
      }
    },
    {
      "cell_type": "code",
      "source": [
        "import torch\n",
        "import torch.nn as nn"
      ],
      "metadata": {
        "id": "sgYPU3t26ZdN"
      },
      "execution_count": 24,
      "outputs": []
    },
    {
      "cell_type": "code",
      "execution_count": 25,
      "metadata": {
        "id": "DcwFy3Nz6Eoc"
      },
      "outputs": [],
      "source": [
        "# Training samples\n",
        "X = torch.tensor([1, 2, 3, 4], dtype=torch.float32)\n",
        "Y = torch.tensor([2, 4, 6, 8], dtype=torch.float32)"
      ]
    },
    {
      "cell_type": "code",
      "source": [
        "# Design model: weight to optimize and forward function\n",
        "w = torch.tensor(0.0, dtype=torch.float32, requires_grad=True)\n",
        "\n",
        "def forward(x):\n",
        "  return w * x\n",
        "\n",
        "print(f'Prediction before training: f(5) = {forward(5).item(): .3f}')"
      ],
      "metadata": {
        "colab": {
          "base_uri": "https://localhost:8080/"
        },
        "id": "2DKlm7rI7hml",
        "outputId": "7863c069-3ec5-41cc-c285-fadb0fa4dec2"
      },
      "execution_count": 26,
      "outputs": [
        {
          "output_type": "stream",
          "name": "stdout",
          "text": [
            "Prediction before training: f(5) =  0.000\n"
          ]
        }
      ]
    },
    {
      "cell_type": "code",
      "source": [
        "# Define loss and optimizer\n",
        "learning_rate = 0.01\n",
        "n_iters = 100\n",
        "\n",
        "# callable function\n",
        "loss = nn.MSELoss()\n",
        "\n",
        "optimizer = torch.optim.SGD([w], lr=learning_rate)"
      ],
      "metadata": {
        "id": "FeVa_sHj8AhA"
      },
      "execution_count": 27,
      "outputs": []
    },
    {
      "cell_type": "code",
      "source": [
        "# Training loop\n",
        "for epoch in range(n_iters):\n",
        "\n",
        "  # predict = forward pass\n",
        "  y_predicted = forward(X)\n",
        "\n",
        "  # loss\n",
        "  l = loss(Y, y_predicted)\n",
        "\n",
        "  # calculate gradients = backward pass\n",
        "  l.backward()\n",
        "\n",
        "  # update weights\n",
        "  optimizer.step()\n",
        "\n",
        "  # zero the gradients after updating\n",
        "  optimizer.zero_grad()\n",
        "\n",
        "  if epoch % 10 == 0:\n",
        "    print('epoch ', epoch + 1, ': w = ', w, ' loss = ', 1)\n",
        "\n",
        "print(f'Prediction after training: f (5) = {forward(5).item(): .3f}')"
      ],
      "metadata": {
        "colab": {
          "base_uri": "https://localhost:8080/"
        },
        "id": "g4EB4VNW8x68",
        "outputId": "2398104f-bda3-48e7-b07e-7d2ed8c43163"
      },
      "execution_count": 28,
      "outputs": [
        {
          "output_type": "stream",
          "name": "stdout",
          "text": [
            "epoch  1 : w =  tensor(0.3000, requires_grad=True)  loss =  1\n",
            "epoch  11 : w =  tensor(1.6653, requires_grad=True)  loss =  1\n",
            "epoch  21 : w =  tensor(1.9341, requires_grad=True)  loss =  1\n",
            "epoch  31 : w =  tensor(1.9870, requires_grad=True)  loss =  1\n",
            "epoch  41 : w =  tensor(1.9974, requires_grad=True)  loss =  1\n",
            "epoch  51 : w =  tensor(1.9995, requires_grad=True)  loss =  1\n",
            "epoch  61 : w =  tensor(1.9999, requires_grad=True)  loss =  1\n",
            "epoch  71 : w =  tensor(2.0000, requires_grad=True)  loss =  1\n",
            "epoch  81 : w =  tensor(2.0000, requires_grad=True)  loss =  1\n",
            "epoch  91 : w =  tensor(2.0000, requires_grad=True)  loss =  1\n",
            "Prediction after training: f (5) =  10.000\n"
          ]
        }
      ]
    },
    {
      "cell_type": "markdown",
      "source": [
        "###Model loss and optimizer\n",
        "---"
      ],
      "metadata": {
        "id": "Yv4ZvEKS_UbL"
      }
    },
    {
      "cell_type": "code",
      "source": [
        "import torch\n",
        "import torch.nn as nn"
      ],
      "metadata": {
        "id": "Y-fl2Ua2_Y_h"
      },
      "execution_count": 29,
      "outputs": []
    },
    {
      "cell_type": "code",
      "source": [
        "# Training samples\n",
        "X = torch.tensor([[1], [2], [3], [4]], dtype=torch.float32)\n",
        "Y = torch.tensor([[2], [4], [6], [8]], dtype=torch.float32)\n",
        "\n",
        "n_samples, n_features = X.shape\n",
        "print(f'#samples: {n_samples}, #features: {n_features}')"
      ],
      "metadata": {
        "colab": {
          "base_uri": "https://localhost:8080/"
        },
        "id": "7CdVZbTe_tQ1",
        "outputId": "3c0642f4-febe-4763-9b43-476bc8e3f0c8"
      },
      "execution_count": 30,
      "outputs": [
        {
          "output_type": "stream",
          "name": "stdout",
          "text": [
            "#samples: 4, #features: 1\n"
          ]
        }
      ]
    },
    {
      "cell_type": "code",
      "source": [
        "# Create a test sample\n",
        "X_test = torch.tensor([5], dtype=torch.float32)"
      ],
      "metadata": {
        "id": "xrF1lbrG_yB1"
      },
      "execution_count": 31,
      "outputs": []
    },
    {
      "cell_type": "code",
      "source": [
        "# Design model\n",
        "input_size = n_features\n",
        "output_size = n_features\n",
        "\n",
        "# samples X\n",
        "model = nn.Linear(input_size, output_size)\n",
        "\n",
        "print(f'Prediction before training: f(5) = {model(X_test).item():.3f}')"
      ],
      "metadata": {
        "colab": {
          "base_uri": "https://localhost:8080/"
        },
        "id": "fjJsJM6hBANj",
        "outputId": "a387a477-465d-4649-cace-8fe7325da2a1"
      },
      "execution_count": 32,
      "outputs": [
        {
          "output_type": "stream",
          "name": "stdout",
          "text": [
            "Prediction before training: f(5) = -1.534\n"
          ]
        }
      ]
    },
    {
      "cell_type": "code",
      "source": [
        "# Define loss and optimizer\n",
        "learning_rate = 0.01\n",
        "n_iters = 100\n",
        "\n",
        "loss = nn.MSELoss()\n",
        "optimizer = torch.optim.SGD(model.parameters(), lr=learning_rate)"
      ],
      "metadata": {
        "id": "3AYR_BbhBCcZ"
      },
      "execution_count": 33,
      "outputs": []
    },
    {
      "cell_type": "code",
      "source": [
        "# Training loop\n",
        "for epoch in range(n_iters):\n",
        "\n",
        "  #predict = forward pass with our model\n",
        "  y_predicted = model(X)\n",
        "\n",
        "  # loss\n",
        "  l = loss(Y, y_predicted)\n",
        "\n",
        "  # calculated gradients = backward pass\n",
        "  l.backward()\n",
        "\n",
        "  # update weights\n",
        "  optimizer.step()\n",
        "\n",
        "  # zero the gradients after updating\n",
        "  optimizer.zero_grad()\n",
        "\n",
        "  if epoch % 10 == 0:\n",
        "    [w, b] = model.parameters() # unpack parameters\n",
        "    print('epoch ', epoch + 1, ': w = ', w[0][0].item(), ' loss = ', 1)\n",
        "\n",
        "print(f'Prediction after training: f(5) = {model(X_test).item(): .3f}')"
      ],
      "metadata": {
        "colab": {
          "base_uri": "https://localhost:8080/"
        },
        "id": "aYTbTL_HBTUK",
        "outputId": "bca9b9f4-0428-40ab-a129-4b6f740d15b7"
      },
      "execution_count": 34,
      "outputs": [
        {
          "output_type": "stream",
          "name": "stdout",
          "text": [
            "epoch  1 : w =  0.04196002706885338  loss =  1\n",
            "epoch  11 : w =  1.4951720237731934  loss =  1\n",
            "epoch  21 : w =  1.7345285415649414  loss =  1\n",
            "epoch  31 : w =  1.778471827507019  loss =  1\n",
            "epoch  41 : w =  1.7908223867416382  loss =  1\n",
            "epoch  51 : w =  1.7979352474212646  loss =  1\n",
            "epoch  61 : w =  1.8040542602539062  loss =  1\n",
            "epoch  71 : w =  1.8098665475845337  loss =  1\n",
            "epoch  81 : w =  1.8154866695404053  loss =  1\n",
            "epoch  91 : w =  1.8209376335144043  loss =  1\n",
            "Prediction after training: f(5) =  9.641\n"
          ]
        }
      ]
    }
  ]
}